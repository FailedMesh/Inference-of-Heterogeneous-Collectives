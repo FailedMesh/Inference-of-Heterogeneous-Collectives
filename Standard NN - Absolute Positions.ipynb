{
 "cells": [
  {
   "cell_type": "code",
   "execution_count": 3,
   "id": "e54cb788",
   "metadata": {},
   "outputs": [],
   "source": [
    "import numpy as np\n",
    "import matplotlib.pyplot as plt\n",
    "import tensorflow as tf\n",
    "from IPython.display import clear_output\n",
    "import scipy.io\n",
    "import os"
   ]
  },
  {
   "cell_type": "markdown",
   "id": "318b4b36",
   "metadata": {},
   "source": [
    "## Load Files:"
   ]
  },
  {
   "cell_type": "code",
   "execution_count": 4,
   "id": "2826d612",
   "metadata": {},
   "outputs": [
    {
     "name": "stdout",
     "output_type": "stream",
     "text": [
      "Files read =  1000\n"
     ]
    }
   ],
   "source": [
    "#Get the list of all files in the specified folder, and shuffle them to generalize:\n",
    "folder = np.array(os.listdir('CoPhe_Lab/1st_May'))\n",
    "folder = folder[np.random.permutation(len(folder))]\n",
    "folder_name = \"Cophe_Lab\\\\1st_May\\\\\" \n",
    "\n",
    "#Specify number of files to process:\n",
    "file_num = 1000\n",
    "print(\"Files in folder = \", file_num)\n",
    "_ = input(\"Press Enter to continue\")\n",
    "\n",
    "#Load the first matlab file:\n",
    "file = scipy.io.loadmat(folder_name + folder[0])\n",
    "\n",
    "#Initialize the array for the XA and YA positions\n",
    "all_Xpos = np.array(file['XA'])\n",
    "all_Ypos = np.array(file['YA'])\n",
    "\n",
    "#Get the Velocities along X-direction for current file:\n",
    "VXA = file['VXA']\n",
    "\n",
    "#Extract the first timestep, the initial velocity, and divide it by its magnitude to get the direction (1 or -1)\n",
    "Y = (VXA[:, 0]/abs(VXA[0, 0]))\n",
    "\n",
    "#Transform the 1 and -1 to a binary group corresponding to 1=>1 and -1=>0\n",
    "Y = ((Y + 1)/2).astype('int').reshape(all_Xpos.shape[0], 1)\n",
    "#Duplicate the 0 and 1 labels across the entire time axis:\n",
    "all_Y = np.tile(Y, all_Xpos.shape[1])\n",
    "\n",
    "#Initialize counter to count number of files processed:\n",
    "processed = 1\n",
    "\n",
    "for i in range(1, file_num):\n",
    "    \n",
    "    #Constant folder name:\n",
    "    folder_name = \"Cophe_Lab\\\\1st_May\\\\\"  \n",
    "    \n",
    "    #Get the MATLAB file, and follow similar steps as above:\n",
    "    file = scipy.io.loadmat(folder_name + folder[i])\n",
    "    X_position = np.array(file['XA'])\n",
    "    Y_position = np.array(file['YA'])\n",
    "    VXA = file['VXA']\n",
    "    Y = (VXA[:, 0]/abs(VXA[0, 0]))\n",
    "    Y = ((Y + 1)/2).astype('int').reshape(X_position.shape[0], 1)\n",
    "    Y = np.tile(Y, X_position.shape[1])\n",
    "    all_Xpos = np.concatenate((all_Xpos, X_position), axis = 1)\n",
    "    all_Ypos = np.concatenate((all_Ypos, Y_position), axis = 1)\n",
    "    all_Y = np.concatenate((all_Y, Y), axis = 1)\n",
    "    processed += 1\n",
    "    print(\"Files read = \", processed)\n",
    "    clear_output(wait=True)\n",
    "    \n",
    "\n",
    "    "
   ]
  },
  {
   "cell_type": "markdown",
   "id": "22cd375e",
   "metadata": {},
   "source": [
    "Right moving group is 1<br>\n",
    "Left moving group is 0"
   ]
  },
  {
   "cell_type": "markdown",
   "id": "8eb0fff6",
   "metadata": {},
   "source": [
    "#### Function to shuffle the order of the particles so that the each particle does not remain in the same index during each training step. This is to prevent the model constraining the particle's group to that specific index, we need to prevent this so that the model preserves the inherent properties of the collective "
   ]
  },
  {
   "cell_type": "code",
   "execution_count": 5,
   "id": "33740e2a",
   "metadata": {},
   "outputs": [],
   "source": [
    "def generate_shuffle(a, b):\n",
    "    assert len(a) == len(b)\n",
    "    order = np.random.permutation(len(a))\n",
    "    return a[order], b[order]"
   ]
  },
  {
   "cell_type": "code",
   "execution_count": 6,
   "id": "d3de1217",
   "metadata": {},
   "outputs": [],
   "source": [
    "def shuffle_along_axis(a, axis):\n",
    "    idx = np.random.rand(*a.shape).argsort(axis=axis)\n",
    "    return np.take_along_axis(a,idx,axis=axis)"
   ]
  },
  {
   "cell_type": "markdown",
   "id": "87d816a2",
   "metadata": {},
   "source": [
    "### Generate the training data, X and Y labels"
   ]
  },
  {
   "cell_type": "code",
   "execution_count": 22,
   "id": "9e85b044",
   "metadata": {},
   "outputs": [
    {
     "name": "stdout",
     "output_type": "stream",
     "text": [
      "(10010, 84)\n",
      "(10010, 42)\n"
     ]
    }
   ],
   "source": [
    "#Stack X and Y position vectors side by side like (X1, Y1), (X2, Y2) .....\n",
    "X = np.concatenate(((all_Xpos[:, 0]).reshape((42, 1)), (all_Ypos[:, 0]).reshape((42, 1))), axis = 1)\n",
    "Y = all_Y[:, 0]\n",
    "X_train, Y_train = generate_shuffle(X, Y)\n",
    "X_train = X_train.reshape((1, 84))\n",
    "Y_train = Y_train.reshape((1, 42))\n",
    "\n",
    "processed = 0\n",
    "\n",
    "for time in range(1, all_Xpos.shape[1]//100):\n",
    "    X = np.concatenate(((all_Xpos[:, time]).reshape((42, 1)), (all_Ypos[:, time]).reshape((42, 1))), axis = 1)\n",
    "    Y = all_Y[:, time]\n",
    "    #for i in range(42):\n",
    "    X_example, Y_example = generate_shuffle(X, Y)\n",
    "    X_example = X_example.reshape([1, -1])\n",
    "    Y_example = Y_example.reshape([1, -1])\n",
    "    X_train = np.concatenate((X_train, X_example), axis = 0)\n",
    "    Y_train = np.concatenate((Y_train, Y_example), axis = 0)\n",
    "    processed += 1\n",
    "    print(\"Instances processed = \", processed)\n",
    "    clear_output(wait=True)\n",
    "        \n",
    "\n",
    "print(X_train.shape)\n",
    "print(Y_train.shape)"
   ]
  },
  {
   "cell_type": "code",
   "execution_count": 36,
   "id": "44b02d6b",
   "metadata": {},
   "outputs": [
    {
     "name": "stdout",
     "output_type": "stream",
     "text": [
      "(10010, 84)\n",
      "(10010, 42)\n"
     ]
    }
   ],
   "source": [
    "print(X_train.shape)\n",
    "print(Y_train.shape)"
   ]
  },
  {
   "cell_type": "markdown",
   "id": "2a3f786c",
   "metadata": {},
   "source": [
    "### Custom Loss Function:"
   ]
  },
  {
   "cell_type": "code",
   "execution_count": 117,
   "id": "344695fe",
   "metadata": {},
   "outputs": [],
   "source": [
    "def penalize_false_positives(y_true, y_pred):\n",
    "    positives = tf.math.bincount(y_true)[1]\n",
    "    negatives = tf.size(y_true) - positives\n",
    "    pos_weight = (positives + negatives)/(2*positives)\n",
    "    neg_weight = (positives + negatives)/(2*negatives)\n",
    "    pos_weight = tf.cast(pos_weight, 'float32')\n",
    "    neg_weight = tf.cast(neg_weight, 'float32')\n",
    "    y_t = tf.cast(y_true, 'float32')\n",
    "    weight_vector = 0.01*pos_weight*(1 - y_t) + neg_weight\n",
    "    squared_difference = tf.square(y_t - y_pred) * weight_vector\n",
    "    return tf.reduce_mean(squared_difference, axis = -1)"
   ]
  },
  {
   "cell_type": "code",
   "execution_count": 135,
   "id": "8e7bda6b",
   "metadata": {},
   "outputs": [],
   "source": [
    "def cut_small_errors(y_true, y_pred):\n",
    "    y_t = tf.cast(y_true, 'float32')\n",
    "    not_differentiable_error = tf.abs(y_pred - y_t)*10\n",
    "    differentiable_error = \n",
    "    return tf.reduce_sum(error)"
   ]
  },
  {
   "cell_type": "markdown",
   "id": "baf6f45a",
   "metadata": {},
   "source": [
    "# Model Definition:"
   ]
  },
  {
   "cell_type": "code",
   "execution_count": 106,
   "id": "a86dad47",
   "metadata": {},
   "outputs": [],
   "source": [
    "#layer_nodes = [20, 50, 80, 50, 42]\n",
    "layer_nodes = [800, 2000, 3200, 2000, 42]\n",
    "dropout_probs = [0, 0.1, 0.2, 0.1, 0]\n",
    "\n",
    "#Activations:\n",
    "sigmoid = tf.keras.activations.sigmoid\n",
    "relu = tf.keras.activations.relu\n",
    "\n",
    "activations = [relu, relu, relu, relu, sigmoid]\n",
    "inputs = tf.keras.layers.Input(shape = (84,))\n",
    "layer_output = tf.keras.layers.Dense(units = layer_nodes[0], activation = 'relu')(inputs)\n",
    "layer_output = tf.keras.layers.Dropout(dropout_probs[0])(layer_output)\n",
    "layer_output = tf.keras.layers.BatchNormalization()(layer_output)\n",
    "\n",
    "for i in range(1, len(layer_nodes)-1):\n",
    "    layer_output = tf.keras.layers.Dense(units = layer_nodes[i], activation = activations[i])(layer_output)\n",
    "    layer_output = tf.keras.layers.Dropout(dropout_probs[i])(layer_output)\n",
    "    layer_output = tf.keras.layers.BatchNormalization()(layer_output)\n",
    "    \n",
    "layer_output = tf.keras.layers.Dense(units = layer_nodes[-1], activation = activations[-1])(layer_output)\n",
    "    \n"
   ]
  },
  {
   "cell_type": "code",
   "execution_count": 107,
   "id": "4a64d669",
   "metadata": {},
   "outputs": [
    {
     "name": "stdout",
     "output_type": "stream",
     "text": [
      "Model: \"model_1\"\n",
      "_________________________________________________________________\n",
      " Layer (type)                Output Shape              Param #   \n",
      "=================================================================\n",
      " input_2 (InputLayer)        [(None, 84)]              0         \n",
      "                                                                 \n",
      " dense_5 (Dense)             (None, 800)               68000     \n",
      "                                                                 \n",
      " dropout_4 (Dropout)         (None, 800)               0         \n",
      "                                                                 \n",
      " batch_normalization_4 (Batc  (None, 800)              3200      \n",
      " hNormalization)                                                 \n",
      "                                                                 \n",
      " dense_6 (Dense)             (None, 2000)              1602000   \n",
      "                                                                 \n",
      " dropout_5 (Dropout)         (None, 2000)              0         \n",
      "                                                                 \n",
      " batch_normalization_5 (Batc  (None, 2000)             8000      \n",
      " hNormalization)                                                 \n",
      "                                                                 \n",
      " dense_7 (Dense)             (None, 3200)              6403200   \n",
      "                                                                 \n",
      " dropout_6 (Dropout)         (None, 3200)              0         \n",
      "                                                                 \n",
      " batch_normalization_6 (Batc  (None, 3200)             12800     \n",
      " hNormalization)                                                 \n",
      "                                                                 \n",
      " dense_8 (Dense)             (None, 2000)              6402000   \n",
      "                                                                 \n",
      " dropout_7 (Dropout)         (None, 2000)              0         \n",
      "                                                                 \n",
      " batch_normalization_7 (Batc  (None, 2000)             8000      \n",
      " hNormalization)                                                 \n",
      "                                                                 \n",
      " dense_9 (Dense)             (None, 42)                84042     \n",
      "                                                                 \n",
      "=================================================================\n",
      "Total params: 14,591,242\n",
      "Trainable params: 14,575,242\n",
      "Non-trainable params: 16,000\n",
      "_________________________________________________________________\n"
     ]
    }
   ],
   "source": [
    "model = tf.keras.Model(inputs = inputs, outputs = layer_output)\n",
    "model.summary()"
   ]
  },
  {
   "cell_type": "code",
   "execution_count": 136,
   "id": "7f22ff00",
   "metadata": {},
   "outputs": [],
   "source": [
    "model.compile(optimizer = tf.keras.optimizers.Adam(learning_rate=5e-3), \n",
    "              loss = cut_small_errors,\n",
    "             metrics = [tf.keras.metrics.Precision()])"
   ]
  },
  {
   "cell_type": "code",
   "execution_count": 137,
   "id": "455ebd6b",
   "metadata": {},
   "outputs": [
    {
     "name": "stdout",
     "output_type": "stream",
     "text": [
      "Epoch 1/500\n",
      "1/1 [==============================] - 5s 5s/step - loss: 0.0366 - precision_9: 0.9966\n",
      "Epoch 2/500\n",
      "1/1 [==============================] - 3s 3s/step - loss: 0.0439 - precision_9: 0.9960\n",
      "Epoch 3/500\n",
      "1/1 [==============================] - 3s 3s/step - loss: 0.0376 - precision_9: 0.9966\n",
      "Epoch 4/500\n",
      "1/1 [==============================] - 3s 3s/step - loss: 0.0410 - precision_9: 0.9966\n",
      "Epoch 5/500\n",
      "1/1 [==============================] - 3s 3s/step - loss: 0.0394 - precision_9: 0.9965\n",
      "Epoch 6/500\n",
      "1/1 [==============================] - 3s 3s/step - loss: 0.0387 - precision_9: 0.9965\n",
      "Epoch 7/500\n",
      "1/1 [==============================] - 3s 3s/step - loss: 0.0380 - precision_9: 0.9965\n",
      "Epoch 8/500\n",
      "1/1 [==============================] - 3s 3s/step - loss: 0.0379 - precision_9: 0.9965\n",
      "Epoch 9/500\n",
      "1/1 [==============================] - 3s 3s/step - loss: 0.0377 - precision_9: 0.9965\n",
      "Epoch 10/500\n",
      "1/1 [==============================] - 3s 3s/step - loss: 0.0372 - precision_9: 0.9966\n",
      "Epoch 11/500\n",
      "1/1 [==============================] - 3s 3s/step - loss: 0.0372 - precision_9: 0.9966\n",
      "Epoch 12/500\n",
      "1/1 [==============================] - 3s 3s/step - loss: 0.0368 - precision_9: 0.9967\n",
      "Epoch 13/500\n",
      "1/1 [==============================] - 3s 3s/step - loss: 0.0368 - precision_9: 0.9966\n",
      "Epoch 14/500\n",
      "1/1 [==============================] - 3s 3s/step - loss: 0.0366 - precision_9: 0.9966\n",
      "Epoch 15/500\n",
      "1/1 [==============================] - 3s 3s/step - loss: 0.0365 - precision_9: 0.9966\n",
      "Epoch 16/500\n",
      "1/1 [==============================] - 3s 3s/step - loss: 0.0364 - precision_9: 0.9967\n",
      "Epoch 17/500\n",
      "1/1 [==============================] - 3s 3s/step - loss: 0.0366 - precision_9: 0.9966\n",
      "Epoch 18/500\n",
      "1/1 [==============================] - 3s 3s/step - loss: 0.0363 - precision_9: 0.9966\n",
      "Epoch 19/500\n",
      "1/1 [==============================] - 3s 3s/step - loss: 0.0364 - precision_9: 0.9966\n",
      "Epoch 20/500\n",
      "1/1 [==============================] - 3s 3s/step - loss: 0.0364 - precision_9: 0.9966\n",
      "Epoch 21/500\n",
      "1/1 [==============================] - 3s 3s/step - loss: 0.0363 - precision_9: 0.9966\n",
      "Epoch 22/500\n",
      "1/1 [==============================] - 3s 3s/step - loss: 0.0361 - precision_9: 0.9967\n",
      "Epoch 23/500\n",
      "1/1 [==============================] - 3s 3s/step - loss: 0.0363 - precision_9: 0.9967\n",
      "Epoch 24/500\n",
      "1/1 [==============================] - 3s 3s/step - loss: 0.0363 - precision_9: 0.9966\n",
      "Epoch 25/500\n",
      "1/1 [==============================] - 3s 3s/step - loss: 0.0362 - precision_9: 0.9967\n",
      "Epoch 26/500\n",
      "1/1 [==============================] - 3s 3s/step - loss: 0.0360 - precision_9: 0.9967\n",
      "Epoch 27/500\n",
      "1/1 [==============================] - 3s 3s/step - loss: 0.0360 - precision_9: 0.9967\n",
      "Epoch 28/500\n",
      "1/1 [==============================] - 3s 3s/step - loss: 0.0361 - precision_9: 0.9967\n",
      "Epoch 29/500\n",
      "1/1 [==============================] - 3s 3s/step - loss: 0.0359 - precision_9: 0.9967\n",
      "Epoch 30/500\n",
      "1/1 [==============================] - 3s 3s/step - loss: 0.0359 - precision_9: 0.9967\n",
      "Epoch 31/500\n",
      "1/1 [==============================] - 3s 3s/step - loss: 0.0357 - precision_9: 0.9967\n",
      "Epoch 32/500\n",
      "1/1 [==============================] - 3s 3s/step - loss: 0.0360 - precision_9: 0.9967\n",
      "Epoch 33/500\n",
      "1/1 [==============================] - 3s 3s/step - loss: 0.0360 - precision_9: 0.9967\n",
      "Epoch 34/500\n",
      "1/1 [==============================] - 3s 3s/step - loss: 0.0358 - precision_9: 0.9967\n",
      "Epoch 35/500\n",
      "1/1 [==============================] - 3s 3s/step - loss: 0.0359 - precision_9: 0.9967\n",
      "Epoch 36/500\n",
      "1/1 [==============================] - 3s 3s/step - loss: 0.0355 - precision_9: 0.9967\n",
      "Epoch 37/500\n",
      "1/1 [==============================] - 3s 3s/step - loss: 0.0357 - precision_9: 0.9967\n",
      "Epoch 38/500\n",
      "1/1 [==============================] - 3s 3s/step - loss: 0.0357 - precision_9: 0.9967\n",
      "Epoch 39/500\n",
      "1/1 [==============================] - 3s 3s/step - loss: 0.0359 - precision_9: 0.9967\n",
      "Epoch 40/500\n",
      "1/1 [==============================] - 3s 3s/step - loss: 0.0357 - precision_9: 0.9967\n",
      "Epoch 41/500\n",
      "1/1 [==============================] - 3s 3s/step - loss: 0.0357 - precision_9: 0.9967\n",
      "Epoch 42/500\n",
      "1/1 [==============================] - 3s 3s/step - loss: 0.0356 - precision_9: 0.9967\n",
      "Epoch 43/500\n",
      "1/1 [==============================] - 3s 3s/step - loss: 0.0355 - precision_9: 0.9967\n",
      "Epoch 44/500\n",
      "1/1 [==============================] - 3s 3s/step - loss: 0.0355 - precision_9: 0.9967\n",
      "Epoch 45/500\n",
      "1/1 [==============================] - 3s 3s/step - loss: 0.0355 - precision_9: 0.9967\n",
      "Epoch 46/500\n",
      "1/1 [==============================] - 3s 3s/step - loss: 0.0354 - precision_9: 0.9967\n",
      "Epoch 47/500\n",
      "1/1 [==============================] - 3s 3s/step - loss: 0.0355 - precision_9: 0.9967\n",
      "Epoch 48/500\n",
      "1/1 [==============================] - 3s 3s/step - loss: 0.0356 - precision_9: 0.9967\n",
      "Epoch 49/500\n",
      "1/1 [==============================] - 3s 3s/step - loss: 0.0355 - precision_9: 0.9967\n",
      "Epoch 50/500\n",
      "1/1 [==============================] - 3s 3s/step - loss: 0.0355 - precision_9: 0.9967\n",
      "Epoch 51/500\n",
      "1/1 [==============================] - 3s 3s/step - loss: 0.0354 - precision_9: 0.9967\n",
      "Epoch 52/500\n",
      "1/1 [==============================] - 3s 3s/step - loss: 0.0355 - precision_9: 0.9967\n",
      "Epoch 53/500\n",
      "1/1 [==============================] - 3s 3s/step - loss: 0.0355 - precision_9: 0.9967\n",
      "Epoch 54/500\n",
      "1/1 [==============================] - 3s 3s/step - loss: 0.0354 - precision_9: 0.9967\n",
      "Epoch 55/500\n",
      "1/1 [==============================] - 3s 3s/step - loss: 0.0354 - precision_9: 0.9967\n",
      "Epoch 56/500\n",
      "1/1 [==============================] - 3s 3s/step - loss: 0.0354 - precision_9: 0.9967\n",
      "Epoch 57/500\n",
      "1/1 [==============================] - 3s 3s/step - loss: 0.0355 - precision_9: 0.9967\n",
      "Epoch 58/500\n",
      "1/1 [==============================] - 3s 3s/step - loss: 0.0354 - precision_9: 0.9967\n",
      "Epoch 59/500\n",
      "1/1 [==============================] - 3s 3s/step - loss: 0.0354 - precision_9: 0.9967\n",
      "Epoch 60/500\n",
      "1/1 [==============================] - 3s 3s/step - loss: 0.0354 - precision_9: 0.9967\n",
      "Epoch 61/500\n",
      "1/1 [==============================] - 3s 3s/step - loss: 0.0354 - precision_9: 0.9967\n",
      "Epoch 62/500\n",
      "1/1 [==============================] - 3s 3s/step - loss: 0.0354 - precision_9: 0.9967\n",
      "Epoch 63/500\n",
      "1/1 [==============================] - 3s 3s/step - loss: 0.0353 - precision_9: 0.9967\n",
      "Epoch 64/500\n",
      "1/1 [==============================] - 3s 3s/step - loss: 0.0353 - precision_9: 0.9967\n",
      "Epoch 65/500\n",
      "1/1 [==============================] - 3s 3s/step - loss: 0.0352 - precision_9: 0.9967\n",
      "Epoch 66/500\n",
      "1/1 [==============================] - 3s 3s/step - loss: 0.0354 - precision_9: 0.9967\n",
      "Epoch 67/500\n",
      "1/1 [==============================] - 3s 3s/step - loss: 0.0352 - precision_9: 0.9967\n",
      "Epoch 68/500\n",
      "1/1 [==============================] - 3s 3s/step - loss: 0.0353 - precision_9: 0.9967\n",
      "Epoch 69/500\n",
      "1/1 [==============================] - 3s 3s/step - loss: 0.0352 - precision_9: 0.9967\n",
      "Epoch 70/500\n",
      "1/1 [==============================] - 3s 3s/step - loss: 0.0352 - precision_9: 0.9967\n",
      "Epoch 71/500\n",
      "1/1 [==============================] - 3s 3s/step - loss: 0.0352 - precision_9: 0.9967\n",
      "Epoch 72/500\n",
      "1/1 [==============================] - 3s 3s/step - loss: 0.0354 - precision_9: 0.9967\n",
      "Epoch 73/500\n",
      "1/1 [==============================] - 3s 3s/step - loss: 0.0353 - precision_9: 0.9967\n",
      "Epoch 74/500\n",
      "1/1 [==============================] - 3s 3s/step - loss: 0.0350 - precision_9: 0.9967\n",
      "Epoch 75/500\n",
      "1/1 [==============================] - 3s 3s/step - loss: 0.0352 - precision_9: 0.9967\n",
      "Epoch 76/500\n",
      "1/1 [==============================] - 3s 3s/step - loss: 0.0353 - precision_9: 0.9967\n",
      "Epoch 77/500\n",
      "1/1 [==============================] - 3s 3s/step - loss: 0.0352 - precision_9: 0.9967\n",
      "Epoch 78/500\n",
      "1/1 [==============================] - 3s 3s/step - loss: 0.0351 - precision_9: 0.9967\n",
      "Epoch 79/500\n",
      "1/1 [==============================] - 3s 3s/step - loss: 0.0353 - precision_9: 0.9967\n",
      "Epoch 80/500\n",
      "1/1 [==============================] - 3s 3s/step - loss: 0.0352 - precision_9: 0.9967\n",
      "Epoch 81/500\n",
      "1/1 [==============================] - 3s 3s/step - loss: 0.0351 - precision_9: 0.9967\n",
      "Epoch 82/500\n",
      "1/1 [==============================] - 3s 3s/step - loss: 0.0349 - precision_9: 0.9967\n",
      "Epoch 83/500\n"
     ]
    },
    {
     "name": "stdout",
     "output_type": "stream",
     "text": [
      "1/1 [==============================] - 3s 3s/step - loss: 0.0351 - precision_9: 0.9967\n",
      "Epoch 84/500\n",
      "1/1 [==============================] - 3s 3s/step - loss: 0.0350 - precision_9: 0.9967\n",
      "Epoch 85/500\n",
      "1/1 [==============================] - 3s 3s/step - loss: 0.0351 - precision_9: 0.9967\n",
      "Epoch 86/500\n",
      "1/1 [==============================] - 3s 3s/step - loss: 0.0350 - precision_9: 0.9967\n",
      "Epoch 87/500\n",
      "1/1 [==============================] - 3s 3s/step - loss: 0.0349 - precision_9: 0.9967\n",
      "Epoch 88/500\n",
      "1/1 [==============================] - 3s 3s/step - loss: 0.0351 - precision_9: 0.9967\n",
      "Epoch 89/500\n",
      "1/1 [==============================] - 3s 3s/step - loss: 0.0350 - precision_9: 0.9967\n",
      "Epoch 90/500\n",
      "1/1 [==============================] - 3s 3s/step - loss: 0.0350 - precision_9: 0.9967\n",
      "Epoch 91/500\n",
      "1/1 [==============================] - 3s 3s/step - loss: 0.0350 - precision_9: 0.9967\n",
      "Epoch 92/500\n",
      "1/1 [==============================] - 3s 3s/step - loss: 0.0348 - precision_9: 0.9967\n",
      "Epoch 93/500\n",
      "1/1 [==============================] - 3s 3s/step - loss: 0.0347 - precision_9: 0.9967\n",
      "Epoch 94/500\n",
      "1/1 [==============================] - 3s 3s/step - loss: 0.0349 - precision_9: 0.9967\n",
      "Epoch 95/500\n",
      "1/1 [==============================] - 3s 3s/step - loss: 0.0350 - precision_9: 0.9967\n",
      "Epoch 96/500\n",
      "1/1 [==============================] - 3s 3s/step - loss: 0.0350 - precision_9: 0.9967\n",
      "Epoch 97/500\n",
      "1/1 [==============================] - 3s 3s/step - loss: 0.0350 - precision_9: 0.9967\n",
      "Epoch 98/500\n",
      "1/1 [==============================] - 3s 3s/step - loss: 0.0351 - precision_9: 0.9967\n",
      "Epoch 99/500\n",
      "1/1 [==============================] - 3s 3s/step - loss: 0.0351 - precision_9: 0.9967\n",
      "Epoch 100/500\n"
     ]
    },
    {
     "ename": "KeyboardInterrupt",
     "evalue": "",
     "output_type": "error",
     "traceback": [
      "\u001b[1;31m---------------------------------------------------------------------------\u001b[0m",
      "\u001b[1;31mKeyboardInterrupt\u001b[0m                         Traceback (most recent call last)",
      "\u001b[1;32m<ipython-input-137-10993fc9a65b>\u001b[0m in \u001b[0;36m<module>\u001b[1;34m\u001b[0m\n\u001b[1;32m----> 1\u001b[1;33m \u001b[0mhistory\u001b[0m \u001b[1;33m=\u001b[0m \u001b[0mmodel\u001b[0m\u001b[1;33m.\u001b[0m\u001b[0mfit\u001b[0m\u001b[1;33m(\u001b[0m\u001b[0mx\u001b[0m \u001b[1;33m=\u001b[0m \u001b[0mX_train\u001b[0m\u001b[1;33m,\u001b[0m \u001b[0my\u001b[0m \u001b[1;33m=\u001b[0m \u001b[0mY_train\u001b[0m\u001b[1;33m,\u001b[0m \u001b[0mbatch_size\u001b[0m \u001b[1;33m=\u001b[0m \u001b[0mX_train\u001b[0m\u001b[1;33m.\u001b[0m\u001b[0mshape\u001b[0m\u001b[1;33m[\u001b[0m\u001b[1;36m0\u001b[0m\u001b[1;33m]\u001b[0m\u001b[1;33m,\u001b[0m \u001b[0mepochs\u001b[0m \u001b[1;33m=\u001b[0m \u001b[1;36m500\u001b[0m\u001b[1;33m)\u001b[0m\u001b[1;33m\u001b[0m\u001b[1;33m\u001b[0m\u001b[0m\n\u001b[0m",
      "\u001b[1;32m~\\anaconda3\\envs\\DL\\lib\\site-packages\\keras\\utils\\traceback_utils.py\u001b[0m in \u001b[0;36merror_handler\u001b[1;34m(*args, **kwargs)\u001b[0m\n\u001b[0;32m     62\u001b[0m     \u001b[0mfiltered_tb\u001b[0m \u001b[1;33m=\u001b[0m \u001b[1;32mNone\u001b[0m\u001b[1;33m\u001b[0m\u001b[1;33m\u001b[0m\u001b[0m\n\u001b[0;32m     63\u001b[0m     \u001b[1;32mtry\u001b[0m\u001b[1;33m:\u001b[0m\u001b[1;33m\u001b[0m\u001b[1;33m\u001b[0m\u001b[0m\n\u001b[1;32m---> 64\u001b[1;33m       \u001b[1;32mreturn\u001b[0m \u001b[0mfn\u001b[0m\u001b[1;33m(\u001b[0m\u001b[1;33m*\u001b[0m\u001b[0margs\u001b[0m\u001b[1;33m,\u001b[0m \u001b[1;33m**\u001b[0m\u001b[0mkwargs\u001b[0m\u001b[1;33m)\u001b[0m\u001b[1;33m\u001b[0m\u001b[1;33m\u001b[0m\u001b[0m\n\u001b[0m\u001b[0;32m     65\u001b[0m     \u001b[1;32mexcept\u001b[0m \u001b[0mException\u001b[0m \u001b[1;32mas\u001b[0m \u001b[0me\u001b[0m\u001b[1;33m:\u001b[0m  \u001b[1;31m# pylint: disable=broad-except\u001b[0m\u001b[1;33m\u001b[0m\u001b[1;33m\u001b[0m\u001b[0m\n\u001b[0;32m     66\u001b[0m       \u001b[0mfiltered_tb\u001b[0m \u001b[1;33m=\u001b[0m \u001b[0m_process_traceback_frames\u001b[0m\u001b[1;33m(\u001b[0m\u001b[0me\u001b[0m\u001b[1;33m.\u001b[0m\u001b[0m__traceback__\u001b[0m\u001b[1;33m)\u001b[0m\u001b[1;33m\u001b[0m\u001b[1;33m\u001b[0m\u001b[0m\n",
      "\u001b[1;32m~\\anaconda3\\envs\\DL\\lib\\site-packages\\keras\\engine\\training.py\u001b[0m in \u001b[0;36mfit\u001b[1;34m(self, x, y, batch_size, epochs, verbose, callbacks, validation_split, validation_data, shuffle, class_weight, sample_weight, initial_epoch, steps_per_epoch, validation_steps, validation_batch_size, validation_freq, max_queue_size, workers, use_multiprocessing)\u001b[0m\n\u001b[0;32m   1382\u001b[0m                 _r=1):\n\u001b[0;32m   1383\u001b[0m               \u001b[0mcallbacks\u001b[0m\u001b[1;33m.\u001b[0m\u001b[0mon_train_batch_begin\u001b[0m\u001b[1;33m(\u001b[0m\u001b[0mstep\u001b[0m\u001b[1;33m)\u001b[0m\u001b[1;33m\u001b[0m\u001b[1;33m\u001b[0m\u001b[0m\n\u001b[1;32m-> 1384\u001b[1;33m               \u001b[0mtmp_logs\u001b[0m \u001b[1;33m=\u001b[0m \u001b[0mself\u001b[0m\u001b[1;33m.\u001b[0m\u001b[0mtrain_function\u001b[0m\u001b[1;33m(\u001b[0m\u001b[0miterator\u001b[0m\u001b[1;33m)\u001b[0m\u001b[1;33m\u001b[0m\u001b[1;33m\u001b[0m\u001b[0m\n\u001b[0m\u001b[0;32m   1385\u001b[0m               \u001b[1;32mif\u001b[0m \u001b[0mdata_handler\u001b[0m\u001b[1;33m.\u001b[0m\u001b[0mshould_sync\u001b[0m\u001b[1;33m:\u001b[0m\u001b[1;33m\u001b[0m\u001b[1;33m\u001b[0m\u001b[0m\n\u001b[0;32m   1386\u001b[0m                 \u001b[0mcontext\u001b[0m\u001b[1;33m.\u001b[0m\u001b[0masync_wait\u001b[0m\u001b[1;33m(\u001b[0m\u001b[1;33m)\u001b[0m\u001b[1;33m\u001b[0m\u001b[1;33m\u001b[0m\u001b[0m\n",
      "\u001b[1;32m~\\anaconda3\\envs\\DL\\lib\\site-packages\\tensorflow\\python\\util\\traceback_utils.py\u001b[0m in \u001b[0;36merror_handler\u001b[1;34m(*args, **kwargs)\u001b[0m\n\u001b[0;32m    148\u001b[0m     \u001b[0mfiltered_tb\u001b[0m \u001b[1;33m=\u001b[0m \u001b[1;32mNone\u001b[0m\u001b[1;33m\u001b[0m\u001b[1;33m\u001b[0m\u001b[0m\n\u001b[0;32m    149\u001b[0m     \u001b[1;32mtry\u001b[0m\u001b[1;33m:\u001b[0m\u001b[1;33m\u001b[0m\u001b[1;33m\u001b[0m\u001b[0m\n\u001b[1;32m--> 150\u001b[1;33m       \u001b[1;32mreturn\u001b[0m \u001b[0mfn\u001b[0m\u001b[1;33m(\u001b[0m\u001b[1;33m*\u001b[0m\u001b[0margs\u001b[0m\u001b[1;33m,\u001b[0m \u001b[1;33m**\u001b[0m\u001b[0mkwargs\u001b[0m\u001b[1;33m)\u001b[0m\u001b[1;33m\u001b[0m\u001b[1;33m\u001b[0m\u001b[0m\n\u001b[0m\u001b[0;32m    151\u001b[0m     \u001b[1;32mexcept\u001b[0m \u001b[0mException\u001b[0m \u001b[1;32mas\u001b[0m \u001b[0me\u001b[0m\u001b[1;33m:\u001b[0m\u001b[1;33m\u001b[0m\u001b[1;33m\u001b[0m\u001b[0m\n\u001b[0;32m    152\u001b[0m       \u001b[0mfiltered_tb\u001b[0m \u001b[1;33m=\u001b[0m \u001b[0m_process_traceback_frames\u001b[0m\u001b[1;33m(\u001b[0m\u001b[0me\u001b[0m\u001b[1;33m.\u001b[0m\u001b[0m__traceback__\u001b[0m\u001b[1;33m)\u001b[0m\u001b[1;33m\u001b[0m\u001b[1;33m\u001b[0m\u001b[0m\n",
      "\u001b[1;32m~\\anaconda3\\envs\\DL\\lib\\site-packages\\tensorflow\\python\\eager\\def_function.py\u001b[0m in \u001b[0;36m__call__\u001b[1;34m(self, *args, **kwds)\u001b[0m\n\u001b[0;32m    913\u001b[0m \u001b[1;33m\u001b[0m\u001b[0m\n\u001b[0;32m    914\u001b[0m       \u001b[1;32mwith\u001b[0m \u001b[0mOptionalXlaContext\u001b[0m\u001b[1;33m(\u001b[0m\u001b[0mself\u001b[0m\u001b[1;33m.\u001b[0m\u001b[0m_jit_compile\u001b[0m\u001b[1;33m)\u001b[0m\u001b[1;33m:\u001b[0m\u001b[1;33m\u001b[0m\u001b[1;33m\u001b[0m\u001b[0m\n\u001b[1;32m--> 915\u001b[1;33m         \u001b[0mresult\u001b[0m \u001b[1;33m=\u001b[0m \u001b[0mself\u001b[0m\u001b[1;33m.\u001b[0m\u001b[0m_call\u001b[0m\u001b[1;33m(\u001b[0m\u001b[1;33m*\u001b[0m\u001b[0margs\u001b[0m\u001b[1;33m,\u001b[0m \u001b[1;33m**\u001b[0m\u001b[0mkwds\u001b[0m\u001b[1;33m)\u001b[0m\u001b[1;33m\u001b[0m\u001b[1;33m\u001b[0m\u001b[0m\n\u001b[0m\u001b[0;32m    916\u001b[0m \u001b[1;33m\u001b[0m\u001b[0m\n\u001b[0;32m    917\u001b[0m       \u001b[0mnew_tracing_count\u001b[0m \u001b[1;33m=\u001b[0m \u001b[0mself\u001b[0m\u001b[1;33m.\u001b[0m\u001b[0mexperimental_get_tracing_count\u001b[0m\u001b[1;33m(\u001b[0m\u001b[1;33m)\u001b[0m\u001b[1;33m\u001b[0m\u001b[1;33m\u001b[0m\u001b[0m\n",
      "\u001b[1;32m~\\anaconda3\\envs\\DL\\lib\\site-packages\\tensorflow\\python\\eager\\def_function.py\u001b[0m in \u001b[0;36m_call\u001b[1;34m(self, *args, **kwds)\u001b[0m\n\u001b[0;32m    945\u001b[0m       \u001b[1;31m# In this case we have created variables on the first call, so we run the\u001b[0m\u001b[1;33m\u001b[0m\u001b[1;33m\u001b[0m\u001b[1;33m\u001b[0m\u001b[0m\n\u001b[0;32m    946\u001b[0m       \u001b[1;31m# defunned version which is guaranteed to never create variables.\u001b[0m\u001b[1;33m\u001b[0m\u001b[1;33m\u001b[0m\u001b[1;33m\u001b[0m\u001b[0m\n\u001b[1;32m--> 947\u001b[1;33m       \u001b[1;32mreturn\u001b[0m \u001b[0mself\u001b[0m\u001b[1;33m.\u001b[0m\u001b[0m_stateless_fn\u001b[0m\u001b[1;33m(\u001b[0m\u001b[1;33m*\u001b[0m\u001b[0margs\u001b[0m\u001b[1;33m,\u001b[0m \u001b[1;33m**\u001b[0m\u001b[0mkwds\u001b[0m\u001b[1;33m)\u001b[0m  \u001b[1;31m# pylint: disable=not-callable\u001b[0m\u001b[1;33m\u001b[0m\u001b[1;33m\u001b[0m\u001b[0m\n\u001b[0m\u001b[0;32m    948\u001b[0m     \u001b[1;32melif\u001b[0m \u001b[0mself\u001b[0m\u001b[1;33m.\u001b[0m\u001b[0m_stateful_fn\u001b[0m \u001b[1;32mis\u001b[0m \u001b[1;32mnot\u001b[0m \u001b[1;32mNone\u001b[0m\u001b[1;33m:\u001b[0m\u001b[1;33m\u001b[0m\u001b[1;33m\u001b[0m\u001b[0m\n\u001b[0;32m    949\u001b[0m       \u001b[1;31m# Release the lock early so that multiple threads can perform the call\u001b[0m\u001b[1;33m\u001b[0m\u001b[1;33m\u001b[0m\u001b[1;33m\u001b[0m\u001b[0m\n",
      "\u001b[1;32m~\\anaconda3\\envs\\DL\\lib\\site-packages\\tensorflow\\python\\eager\\function.py\u001b[0m in \u001b[0;36m__call__\u001b[1;34m(self, *args, **kwargs)\u001b[0m\n\u001b[0;32m   2954\u001b[0m       (graph_function,\n\u001b[0;32m   2955\u001b[0m        filtered_flat_args) = self._maybe_define_function(args, kwargs)\n\u001b[1;32m-> 2956\u001b[1;33m     return graph_function._call_flat(\n\u001b[0m\u001b[0;32m   2957\u001b[0m         filtered_flat_args, captured_inputs=graph_function.captured_inputs)  # pylint: disable=protected-access\n\u001b[0;32m   2958\u001b[0m \u001b[1;33m\u001b[0m\u001b[0m\n",
      "\u001b[1;32m~\\anaconda3\\envs\\DL\\lib\\site-packages\\tensorflow\\python\\eager\\function.py\u001b[0m in \u001b[0;36m_call_flat\u001b[1;34m(self, args, captured_inputs, cancellation_manager)\u001b[0m\n\u001b[0;32m   1851\u001b[0m         and executing_eagerly):\n\u001b[0;32m   1852\u001b[0m       \u001b[1;31m# No tape is watching; skip to running the function.\u001b[0m\u001b[1;33m\u001b[0m\u001b[1;33m\u001b[0m\u001b[1;33m\u001b[0m\u001b[0m\n\u001b[1;32m-> 1853\u001b[1;33m       return self._build_call_outputs(self._inference_function.call(\n\u001b[0m\u001b[0;32m   1854\u001b[0m           ctx, args, cancellation_manager=cancellation_manager))\n\u001b[0;32m   1855\u001b[0m     forward_backward = self._select_forward_and_backward_functions(\n",
      "\u001b[1;32m~\\anaconda3\\envs\\DL\\lib\\site-packages\\tensorflow\\python\\eager\\function.py\u001b[0m in \u001b[0;36mcall\u001b[1;34m(self, ctx, args, cancellation_manager)\u001b[0m\n\u001b[0;32m    497\u001b[0m       \u001b[1;32mwith\u001b[0m \u001b[0m_InterpolateFunctionError\u001b[0m\u001b[1;33m(\u001b[0m\u001b[0mself\u001b[0m\u001b[1;33m)\u001b[0m\u001b[1;33m:\u001b[0m\u001b[1;33m\u001b[0m\u001b[1;33m\u001b[0m\u001b[0m\n\u001b[0;32m    498\u001b[0m         \u001b[1;32mif\u001b[0m \u001b[0mcancellation_manager\u001b[0m \u001b[1;32mis\u001b[0m \u001b[1;32mNone\u001b[0m\u001b[1;33m:\u001b[0m\u001b[1;33m\u001b[0m\u001b[1;33m\u001b[0m\u001b[0m\n\u001b[1;32m--> 499\u001b[1;33m           outputs = execute.execute(\n\u001b[0m\u001b[0;32m    500\u001b[0m               \u001b[0mstr\u001b[0m\u001b[1;33m(\u001b[0m\u001b[0mself\u001b[0m\u001b[1;33m.\u001b[0m\u001b[0msignature\u001b[0m\u001b[1;33m.\u001b[0m\u001b[0mname\u001b[0m\u001b[1;33m)\u001b[0m\u001b[1;33m,\u001b[0m\u001b[1;33m\u001b[0m\u001b[1;33m\u001b[0m\u001b[0m\n\u001b[0;32m    501\u001b[0m               \u001b[0mnum_outputs\u001b[0m\u001b[1;33m=\u001b[0m\u001b[0mself\u001b[0m\u001b[1;33m.\u001b[0m\u001b[0m_num_outputs\u001b[0m\u001b[1;33m,\u001b[0m\u001b[1;33m\u001b[0m\u001b[1;33m\u001b[0m\u001b[0m\n",
      "\u001b[1;32m~\\anaconda3\\envs\\DL\\lib\\site-packages\\tensorflow\\python\\eager\\execute.py\u001b[0m in \u001b[0;36mquick_execute\u001b[1;34m(op_name, num_outputs, inputs, attrs, ctx, name)\u001b[0m\n\u001b[0;32m     52\u001b[0m   \u001b[1;32mtry\u001b[0m\u001b[1;33m:\u001b[0m\u001b[1;33m\u001b[0m\u001b[1;33m\u001b[0m\u001b[0m\n\u001b[0;32m     53\u001b[0m     \u001b[0mctx\u001b[0m\u001b[1;33m.\u001b[0m\u001b[0mensure_initialized\u001b[0m\u001b[1;33m(\u001b[0m\u001b[1;33m)\u001b[0m\u001b[1;33m\u001b[0m\u001b[1;33m\u001b[0m\u001b[0m\n\u001b[1;32m---> 54\u001b[1;33m     tensors = pywrap_tfe.TFE_Py_Execute(ctx._handle, device_name, op_name,\n\u001b[0m\u001b[0;32m     55\u001b[0m                                         inputs, attrs, num_outputs)\n\u001b[0;32m     56\u001b[0m   \u001b[1;32mexcept\u001b[0m \u001b[0mcore\u001b[0m\u001b[1;33m.\u001b[0m\u001b[0m_NotOkStatusException\u001b[0m \u001b[1;32mas\u001b[0m \u001b[0me\u001b[0m\u001b[1;33m:\u001b[0m\u001b[1;33m\u001b[0m\u001b[1;33m\u001b[0m\u001b[0m\n",
      "\u001b[1;31mKeyboardInterrupt\u001b[0m: "
     ]
    }
   ],
   "source": [
    "history = model.fit(x = X_train, y = Y_train, batch_size = X_train.shape[0], epochs = 500)"
   ]
  },
  {
   "cell_type": "code",
   "execution_count": 138,
   "id": "24ee6d6a",
   "metadata": {},
   "outputs": [
    {
     "data": {
      "image/png": "[encoded data removed]",
      "text/plain": [
       "<Figure size 432x288 with 1 Axes>"
      ]
     },
     "metadata": {
      "needs_background": "light"
     },
     "output_type": "display_data"
    }
   ],
   "source": [
    "plt.plot(history.history['loss'])\n",
    "plt.title('model loss')\n",
    "plt.ylabel('loss')\n",
    "plt.xlabel('epoch')\n",
    "plt.legend(['train', 'val'], loc='upper left')\n",
    "plt.show()"
   ]
  },
  {
   "cell_type": "code",
   "execution_count": 90,
   "id": "5330c4cb",
   "metadata": {},
   "outputs": [],
   "source": [
    "tf.config.run_functions_eagerly(False)"
   ]
  },
  {
   "cell_type": "code",
   "execution_count": 121,
   "id": "ed6c4381",
   "metadata": {},
   "outputs": [],
   "source": [
    "model.save('model_standard.h5')"
   ]
  }
 ],
 "metadata": {
  "kernelspec": {
   "display_name": "DeepLearning",
   "language": "python",
   "name": "deeplearning"
  },
  "language_info": {
   "codemirror_mode": {
    "name": "ipython",
    "version": 3
   },
   "file_extension": ".py",
   "mimetype": "text/x-python",
   "name": "python",
   "nbconvert_exporter": "python",
   "pygments_lexer": "ipython3",
   "version": "3.8.8"
  }
 },
 "nbformat": 4,
 "nbformat_minor": 5
}
