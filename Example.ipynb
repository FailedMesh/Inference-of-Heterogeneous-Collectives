{
 "cells": [
  {
   "cell_type": "markdown",
   "id": "28773dc8",
   "metadata": {},
   "source": [
    "### Import all required libraries:"
   ]
  },
  {
   "cell_type": "code",
   "execution_count": 1,
   "id": "22f8f0e9",
   "metadata": {},
   "outputs": [],
   "source": [
    "from Relative_Position import *"
   ]
  },
  {
   "cell_type": "markdown",
   "id": "b7248d4f",
   "metadata": {},
   "source": [
    "### Define the file path, and get the unique parameters from all the simulations"
   ]
  },
  {
   "cell_type": "code",
   "execution_count": 2,
   "id": "7199ef3f",
   "metadata": {},
   "outputs": [
    {
     "name": "stdout",
     "output_type": "stream",
     "text": [
      "\n",
      " UNIQUE PARAMETERS:\n",
      "num_particles  :  [42]\n",
      "Nr  :  [12, 1]\n",
      "packdens  :  [0.22182, 0.25981, 0.30847, 0.3722, 0.45792, 0.57706]\n",
      "delV  :  [0.1, 0.25, 0.5, 0.75, 1.25, 1.5, 1.0, 2.5, 2.0, 3.0]\n",
      "fluc  :  [0.0]\n"
     ]
    }
   ],
   "source": [
    "files_path = 'CoPhe_Lab/1st_May'\n",
    "unique_params = get_unique_params(files_path)"
   ]
  },
  {
   "cell_type": "markdown",
   "id": "e50889f9",
   "metadata": {},
   "source": [
    "### From the unique parameters, choose parameters that should be fixed. Make sure the folder name corresponds to the folder where all simulation files are kept"
   ]
  },
  {
   "cell_type": "code",
   "execution_count": 3,
   "id": "998d833e",
   "metadata": {},
   "outputs": [],
   "source": [
    "folder_name = \"Cophe_Lab\\\\1st_May\\\\\"\n",
    "\n",
    "fixed_params = {'num_particles': 42,\n",
    "              'Nr': 12,\n",
    "              'packdens': 0.22182,\n",
    "              'delV': 0.1,\n",
    "              'fluc': 0.0}"
   ]
  },
  {
   "cell_type": "markdown",
   "id": "0886ac17",
   "metadata": {},
   "source": [
    "### Define the Model Object"
   ]
  },
  {
   "cell_type": "code",
   "execution_count": 4,
   "id": "5c93ef0c",
   "metadata": {},
   "outputs": [],
   "source": [
    "Model = relative_position_model(fixed_params, unique_params, files_path, folder_name)"
   ]
  },
  {
   "cell_type": "markdown",
   "id": "825aa89b",
   "metadata": {},
   "source": [
    "### Initialize the Model"
   ]
  },
  {
   "cell_type": "code",
   "execution_count": null,
   "id": "52ada0a5",
   "metadata": {},
   "outputs": [],
   "source": [
    "train_ratio = 0.9\n",
    "num_instances = 100\n",
    "\n",
    "Model.initialize(train_ratio, num_instances)"
   ]
  },
  {
   "cell_type": "markdown",
   "id": "0cb62d7b",
   "metadata": {},
   "source": [
    "### Define the network"
   ]
  },
  {
   "cell_type": "code",
   "execution_count": null,
   "id": "d57803c5",
   "metadata": {},
   "outputs": [],
   "source": [
    "layer_nodes = [40, 60, 70, 70, 60, 40, 1]\n",
    "dropout_rate = 0.1\n",
    "Model.neural_network(layer_nodes, dropout_rate)"
   ]
  },
  {
   "cell_type": "markdown",
   "id": "d6acb1d1",
   "metadata": {},
   "source": [
    "### Train the network"
   ]
  },
  {
   "cell_type": "code",
   "execution_count": null,
   "id": "cb7d049d",
   "metadata": {},
   "outputs": [],
   "source": [
    "Model.train()"
   ]
  },
  {
   "cell_type": "markdown",
   "id": "bc49dbb5",
   "metadata": {},
   "source": [
    "### Load a model that has been saved (optional - do this only if a model had been trained and saved previously)"
   ]
  },
  {
   "cell_type": "code",
   "execution_count": 5,
   "id": "6de68db7",
   "metadata": {},
   "outputs": [],
   "source": [
    "Model.load_model('relative_model_new2.h5')"
   ]
  },
  {
   "cell_type": "markdown",
   "id": "5f6b7b7a",
   "metadata": {},
   "source": [
    "### Generate a prediction using any file"
   ]
  },
  {
   "cell_type": "code",
   "execution_count": 7,
   "id": "cd477ecf",
   "metadata": {},
   "outputs": [
    {
     "name": "stdout",
     "output_type": "stream",
     "text": [
      "NUMBER OF MISCLASSIFICATIONS =  151.0\n",
      "ACCURACY =  99.30355010401368\n",
      "DATASET USED = Cophe_Lab\\1st_May\\ObservingAndInferring_29April2019_N42_NumberRatio_12_packdens_0.22182_delV_0.1_Fluc_0_Realization_23.mat\n"
     ]
    }
   ],
   "source": [
    "output, error = Model.generate_prediction()"
   ]
  },
  {
   "cell_type": "markdown",
   "id": "43fbaf3d",
   "metadata": {},
   "source": [
    "### Save the misclassification matrix for simulation on MATLAB"
   ]
  },
  {
   "cell_type": "code",
   "execution_count": null,
   "id": "c0c9c8f7",
   "metadata": {},
   "outputs": [],
   "source": [
    "scipy.io.savemat(\"rel_model_new_error.mat\", {'error' : error})"
   ]
  }
 ],
 "metadata": {
  "kernelspec": {
   "display_name": "DeepLearning",
   "language": "python",
   "name": "deeplearning"
  },
  "language_info": {
   "codemirror_mode": {
    "name": "ipython",
    "version": 3
   },
   "file_extension": ".py",
   "mimetype": "text/x-python",
   "name": "python",
   "nbconvert_exporter": "python",
   "pygments_lexer": "ipython3",
   "version": "3.8.8"
  }
 },
 "nbformat": 4,
 "nbformat_minor": 5
}
